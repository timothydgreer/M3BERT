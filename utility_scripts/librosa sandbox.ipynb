{
 "cells": [
  {
   "cell_type": "code",
   "execution_count": 1,
   "metadata": {},
   "outputs": [],
   "source": [
    "import librosa\n",
    "import numpy as np\n",
    "import os\n",
    "import speechpy\n",
    "\n",
    "DATA_DIR = \"../data/mp3_samples\""
   ]
  },
  {
   "cell_type": "code",
   "execution_count": 2,
   "metadata": {},
   "outputs": [
    {
     "name": "stdout",
     "output_type": "stream",
     "text": [
      "['../data/mp3_samples\\\\Blue Moon Beat (Demo 12-1-18).mp3', '../data/mp3_samples\\\\Cadence Beat [Demo 6-2-20].mp3', '../data/mp3_samples\\\\Concert Hall Beat [Demo 6-2-20].mp3']\n"
     ]
    }
   ],
   "source": [
    "# Get all mp3 files in dir and subdirs\n",
    "mp3s = []\n",
    "for (dirpath, dirnames, filenames) in os.walk(DATA_DIR):\n",
    "    mp3s += [os.path.join(dirpath, file) for file in filenames if file.find(\".mp3\")!=-1]\n",
    "print(mp3s)"
   ]
  },
  {
   "cell_type": "code",
   "execution_count": 3,
   "metadata": {},
   "outputs": [
    {
     "name": "stdout",
     "output_type": "stream",
     "text": [
      "<class 'numpy.ndarray'> (10446336,)\n",
      "0.9999695 44100\n"
     ]
    }
   ],
   "source": [
    "# Load mp3\n",
    "i = 0\n",
    "mp3 = mp3s[i]\n",
    "x , sr = librosa.load(mp3, sr=44100)\n",
    "print(type(x), x.shape)\n",
    "print(max(x), sr)"
   ]
  },
  {
   "cell_type": "markdown",
   "metadata": {},
   "source": [
    "In our work, Librosa was used to extract the following features from a given music clip: Mel-scaled Spectrogram, Constant-Q Transform (CQT), Mel-frequency cepstral coefficients (MFCCs), MFCCs delta and Chromagram, as detailed in Table 4. Each kind of features was extracted at the sampling rate of 44,100Hz, with a Hamming window size of 2048 samples (≈ 46 ms) and a hop size of 1024 samples (≈ 23 ms). The Mel Spectrogram and CQT features were transformed to log amplitude with S_0 = ln(10 · S + ), where S,  represents the feature and an extremely small number, respectively. Then Cepstral Mean and\n",
    "Variance Normalization (CMVN) [29, 35] were applied to the extracted features for minimizing distortion caused by noise contamination. Finally these normalized features were concatenated to a 324-dim feature, which was later used as the input of MusiCoder."
   ]
  },
  {
   "cell_type": "code",
   "execution_count": 4,
   "metadata": {},
   "outputs": [
    {
     "name": "stdout",
     "output_type": "stream",
     "text": [
      "float32\n"
     ]
    }
   ],
   "source": [
    "print(x.dtype)"
   ]
  },
  {
   "cell_type": "code",
   "execution_count": 5,
   "metadata": {},
   "outputs": [
    {
     "name": "stderr",
     "output_type": "stream",
     "text": [
      "D:\\Anaconda3\\envs\\tensorflow\\lib\\site-packages\\scipy\\sparse\\lil.py:514: FutureWarning: future versions will not create a writeable array from broadcast_array. Set the writable flag explicitly to avoid this warning.\n",
      "  if not j.flags.writeable or j.dtype not in (np.int32, np.int64):\n",
      "D:\\Anaconda3\\envs\\tensorflow\\lib\\site-packages\\scipy\\signal\\_arraytools.py:45: FutureWarning: Using a non-tuple sequence for multidimensional indexing is deprecated; use `arr[tuple(seq)]` instead of `arr[seq]`. In the future this will be interpreted as an array index, `arr[np.array(seq)]`, which will result either in an error or a different result.\n",
      "  b = a[a_slice]\n"
     ]
    },
    {
     "name": "stdout",
     "output_type": "stream",
     "text": [
      "mel: (128, 10202)\n",
      "cqt: (144, 10202)\n",
      "mfcc: (20, 10202)\n",
      "delta_mfcc: (20, 10202)\n",
      "chroma: (12, 10202)\n"
     ]
    }
   ],
   "source": [
    "# Extract feats\n",
    "sr = 44100\n",
    "window = 'hamming'\n",
    "win_length=2048\n",
    "hop_length=1024\n",
    "\n",
    "mel = librosa.feature.melspectrogram(y=x, sr=sr, hop_length=hop_length, win_length=win_length, window=window)\n",
    "cqt = librosa.feature.chroma_cqt(y=x, sr=sr, hop_length=hop_length, n_chroma=144)\n",
    "mfcc = librosa.feature.mfcc(y=x, sr=sr, hop_length=hop_length, win_length=win_length, window=window)\n",
    "delta_mfcc = librosa.feature.delta(mfcc)\n",
    "chroma = librosa.feature.chroma_stft(y=x, sr=sr, hop_length=hop_length, win_length=win_length, window=window)\n",
    "\n",
    "print(\"mel:\", mel.shape)\n",
    "print(\"cqt:\", cqt.shape)\n",
    "print(\"mfcc:\", mfcc.shape)\n",
    "print(\"delta_mfcc:\", delta_mfcc.shape)\n",
    "print(\"chroma:\", chroma.shape)"
   ]
  },
  {
   "cell_type": "code",
   "execution_count": 8,
   "metadata": {},
   "outputs": [],
   "source": [
    "def log_scale(x):\n",
    "    epsilon = 1e-6\n",
    "    return (np.log(10*x+epsilon))"
   ]
  },
  {
   "cell_type": "code",
   "execution_count": 12,
   "metadata": {},
   "outputs": [
    {
     "name": "stdout",
     "output_type": "stream",
     "text": [
      "mel: (128, 10202)\n",
      "cqt: (144, 10202)\n",
      "mfcc: (20, 10202)\n",
      "delta_mfcc: (20, 10202)\n",
      "chroma: (12, 10202)\n"
     ]
    },
    {
     "name": "stderr",
     "output_type": "stream",
     "text": [
      "D:\\Anaconda3\\envs\\tensorflow\\lib\\site-packages\\ipykernel\\__main__.py:3: RuntimeWarning: invalid value encountered in log\n",
      "  app.launch_new_instance()\n"
     ]
    }
   ],
   "source": [
    "mel = speechpy.processing.cmvn(log_scale(mel))\n",
    "cqt = speechpy.processing.cmvn(log_scale(cqt))\n",
    "mfcc = speechpy.processing.cmvn(mfcc)\n",
    "delta_mfcc = speechpy.processing.cmvn(delta_mfcc)\n",
    "chroma = speechpy.processing.cmvn(chroma)\n",
    "\n",
    "print(\"mel:\", mel.shape)\n",
    "print(\"cqt:\", cqt.shape)\n",
    "print(\"mfcc:\", mfcc.shape)\n",
    "print(\"delta_mfcc:\", delta_mfcc.shape)\n",
    "print(\"chroma:\", chroma.shape)"
   ]
  },
  {
   "cell_type": "code",
   "execution_count": 13,
   "metadata": {},
   "outputs": [
    {
     "data": {
      "text/plain": [
       "dtype('float32')"
      ]
     },
     "execution_count": 13,
     "metadata": {},
     "output_type": "execute_result"
    }
   ],
   "source": [
    "mel.dtype"
   ]
  },
  {
   "cell_type": "code",
   "execution_count": null,
   "metadata": {},
   "outputs": [],
   "source": []
  }
 ],
 "metadata": {
  "kernelspec": {
   "display_name": "Python [conda env:tensorflow]",
   "language": "python",
   "name": "conda-env-tensorflow-py"
  },
  "language_info": {
   "codemirror_mode": {
    "name": "ipython",
    "version": 3
   },
   "file_extension": ".py",
   "mimetype": "text/x-python",
   "name": "python",
   "nbconvert_exporter": "python",
   "pygments_lexer": "ipython3",
   "version": "3.5.5"
  }
 },
 "nbformat": 4,
 "nbformat_minor": 2
}
